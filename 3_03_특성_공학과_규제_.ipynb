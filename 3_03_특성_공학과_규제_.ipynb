{
  "nbformat": 4,
  "nbformat_minor": 0,
  "metadata": {
    "colab": {
      "provenance": []
    },
    "kernelspec": {
      "name": "python3",
      "display_name": "Python 3"
    },
    "language_info": {
      "name": "python"
    }
  },
  "cells": [
    {
      "cell_type": "markdown",
      "source": [
        "### 다중 회귀(여러 개의 특성을 사용한 선형 회귀)\n",
        "- 특성 공학 : 기존 특성을 사용해 새로운 특성을 뽑아내는 작업"
      ],
      "metadata": {
        "id": "mQtaByKqweOj"
      }
    },
    {
      "cell_type": "markdown",
      "source": [
        "### 데이터 준비"
      ],
      "metadata": {
        "id": "5Hc6rVLvxl3n"
      }
    },
    {
      "cell_type": "code",
      "source": [
        "import pandas as pd\n",
        "df = pd.read_csv('https://bit.ly/perch_csv_data')\n",
        "perch_full = df.to_numpy()\n",
        "print(perch_full)"
      ],
      "metadata": {
        "colab": {
          "base_uri": "https://localhost:8080/"
        },
        "id": "IQzzOZ2Zxogu",
        "outputId": "edbe6a00-f45e-4ed6-bd5f-93552158fdcd"
      },
      "execution_count": 1,
      "outputs": [
        {
          "output_type": "stream",
          "name": "stdout",
          "text": [
            "[[ 8.4   2.11  1.41]\n",
            " [13.7   3.53  2.  ]\n",
            " [15.    3.82  2.43]\n",
            " [16.2   4.59  2.63]\n",
            " [17.4   4.59  2.94]\n",
            " [18.    5.22  3.32]\n",
            " [18.7   5.2   3.12]\n",
            " [19.    5.64  3.05]\n",
            " [19.6   5.14  3.04]\n",
            " [20.    5.08  2.77]\n",
            " [21.    5.69  3.56]\n",
            " [21.    5.92  3.31]\n",
            " [21.    5.69  3.67]\n",
            " [21.3   6.38  3.53]\n",
            " [22.    6.11  3.41]\n",
            " [22.    5.64  3.52]\n",
            " [22.    6.11  3.52]\n",
            " [22.    5.88  3.52]\n",
            " [22.    5.52  4.  ]\n",
            " [22.5   5.86  3.62]\n",
            " [22.5   6.79  3.62]\n",
            " [22.7   5.95  3.63]\n",
            " [23.    5.22  3.63]\n",
            " [23.5   6.28  3.72]\n",
            " [24.    7.29  3.72]\n",
            " [24.    6.38  3.82]\n",
            " [24.6   6.73  4.17]\n",
            " [25.    6.44  3.68]\n",
            " [25.6   6.56  4.24]\n",
            " [26.5   7.17  4.14]\n",
            " [27.3   8.32  5.14]\n",
            " [27.5   7.17  4.34]\n",
            " [27.5   7.05  4.34]\n",
            " [27.5   7.28  4.57]\n",
            " [28.    7.82  4.2 ]\n",
            " [28.7   7.59  4.64]\n",
            " [30.    7.62  4.77]\n",
            " [32.8  10.03  6.02]\n",
            " [34.5  10.26  6.39]\n",
            " [35.   11.49  7.8 ]\n",
            " [36.5  10.88  6.86]\n",
            " [36.   10.61  6.74]\n",
            " [37.   10.84  6.26]\n",
            " [37.   10.57  6.37]\n",
            " [39.   11.14  7.49]\n",
            " [39.   11.14  6.  ]\n",
            " [39.   12.43  7.35]\n",
            " [40.   11.93  7.11]\n",
            " [40.   11.73  7.22]\n",
            " [40.   12.38  7.46]\n",
            " [40.   11.14  6.63]\n",
            " [42.   12.8   6.87]\n",
            " [43.   11.93  7.28]\n",
            " [43.   12.51  7.42]\n",
            " [43.5  12.6   8.14]\n",
            " [44.   12.49  7.6 ]]\n"
          ]
        }
      ]
    },
    {
      "cell_type": "code",
      "source": [
        "import numpy as np\n",
        "perch_weight = np.array([5.9, 32.0, 40.0, 51.5, 70.0, 100.0, 78.0, 80.0, 85.0, 85.0, 110.0,\n",
        "       115.0, 125.0, 130.0, 120.0, 120.0, 130.0, 135.0, 110.0, 130.0,\n",
        "       150.0, 145.0, 150.0, 170.0, 225.0, 145.0, 188.0, 180.0, 197.0,\n",
        "       218.0, 300.0, 260.0, 265.0, 250.0, 250.0, 300.0, 320.0, 514.0,\n",
        "       556.0, 840.0, 685.0, 700.0, 700.0, 690.0, 900.0, 650.0, 820.0,\n",
        "       850.0, 900.0, 1015.0, 820.0, 1100.0, 1000.0, 1100.0, 1000.0,\n",
        "       1000.0])"
      ],
      "metadata": {
        "id": "nZGHiHKbyMEo"
      },
      "execution_count": 2,
      "outputs": []
    },
    {
      "cell_type": "code",
      "source": [
        "from sklearn.model_selection import train_test_split\n",
        "train_input, test_input, train_target, test_target = train_test_split(perch_full, perch_weight, random_state=42)"
      ],
      "metadata": {
        "id": "dgqY0YOaySlO"
      },
      "execution_count": 3,
      "outputs": []
    },
    {
      "cell_type": "code",
      "source": [
        "print(train_input.shape, test_input.shape)\n",
        "print(train_target.shape, test_target.shape)"
      ],
      "metadata": {
        "colab": {
          "base_uri": "https://localhost:8080/"
        },
        "id": "W0MdeEFs4FsD",
        "outputId": "1d9af736-af86-470b-a30f-5ffdbf94e013"
      },
      "execution_count": 4,
      "outputs": [
        {
          "output_type": "stream",
          "name": "stdout",
          "text": [
            "(42, 3) (14, 3)\n",
            "(42,) (14,)\n"
          ]
        }
      ]
    },
    {
      "cell_type": "markdown",
      "source": [
        "### 사이킷런의 변환기"
      ],
      "metadata": {
        "id": "T84RmnUeywSV"
      }
    },
    {
      "cell_type": "code",
      "source": [
        "from sklearn.preprocessing import PolynomialFeatures # 임포트\n",
        "poly = PolynomialFeatures() # 객체 생성\n",
        "poly.fit([[2,3]]) # 훈련(학습)\n",
        "print(poly.transform([[2,3]])) # 변형"
      ],
      "metadata": {
        "colab": {
          "base_uri": "https://localhost:8080/"
        },
        "id": "WRaBzIR8yyd8",
        "outputId": "03eba8f5-8bab-4029-a7e1-da44d713d4eb"
      },
      "execution_count": 5,
      "outputs": [
        {
          "output_type": "stream",
          "name": "stdout",
          "text": [
            "[[1. 2. 3. 4. 6. 9.]]\n"
          ]
        }
      ]
    },
    {
      "cell_type": "markdown",
      "source": [
        "- PolynomialFeatures 클래스는 기본적으로 각 특성을 제곱한 항을 추가하고 특성끼리 곱한 항을 추가함."
      ],
      "metadata": {
        "id": "Npe73R5u73bC"
      }
    },
    {
      "cell_type": "code",
      "source": [
        "poly = PolynomialFeatures(include_bias=False) # 절편을 위한 항(1) 제거 후 제곱과 특성끼리 곱한 항만 리턴\n",
        "poly.fit([[2,3]])\n",
        "print(poly.transform([[2,3]]))"
      ],
      "metadata": {
        "colab": {
          "base_uri": "https://localhost:8080/"
        },
        "id": "7kmZBrsv9oit",
        "outputId": "e145f576-658e-43bf-9b06-aa6c0dc62623"
      },
      "execution_count": 6,
      "outputs": [
        {
          "output_type": "stream",
          "name": "stdout",
          "text": [
            "[[2. 3. 4. 6. 9.]]\n"
          ]
        }
      ]
    },
    {
      "cell_type": "code",
      "source": [
        "poly = PolynomialFeatures(include_bias=False)\n",
        "poly.fit(train_input)\n",
        "train_poly = poly.transform(train_input)\n",
        "print(train_poly.shape)"
      ],
      "metadata": {
        "id": "JL1ocFpb_N4P",
        "colab": {
          "base_uri": "https://localhost:8080/"
        },
        "outputId": "d97b3917-f750-46a8-b04f-ef0c28e4fe36"
      },
      "execution_count": 7,
      "outputs": [
        {
          "output_type": "stream",
          "name": "stdout",
          "text": [
            "(42, 9)\n"
          ]
        }
      ]
    },
    {
      "cell_type": "code",
      "source": [
        "poly.get_feature_names_out() #9개의 특성이 어떻게 만들어졌는지 확인"
      ],
      "metadata": {
        "colab": {
          "base_uri": "https://localhost:8080/"
        },
        "id": "12IYzvE0e7gb",
        "outputId": "8743b546-7dc4-43a7-8aa9-3f243cf4ccd2"
      },
      "execution_count": 10,
      "outputs": [
        {
          "output_type": "execute_result",
          "data": {
            "text/plain": [
              "array(['x0', 'x1', 'x2', 'x0^2', 'x0 x1', 'x0 x2', 'x1^2', 'x1 x2',\n",
              "       'x2^2'], dtype=object)"
            ]
          },
          "metadata": {},
          "execution_count": 10
        }
      ]
    },
    {
      "cell_type": "code",
      "source": [
        "test_poly = poly.transform(test_input)"
      ],
      "metadata": {
        "id": "7x5C7eiVfYRu"
      },
      "execution_count": 11,
      "outputs": []
    },
    {
      "cell_type": "markdown",
      "source": [
        "### 다중 회귀 모델 훈련하기"
      ],
      "metadata": {
        "id": "ljW1wCXUfdj6"
      }
    },
    {
      "cell_type": "code",
      "source": [
        "from sklearn.linear_model import LinearRegression\n",
        "lr = LinearRegression()\n",
        "lr.fit(train_poly, train_target)\n",
        "print(lr.score(train_poly, train_target))\n",
        "print(lr.score(test_poly, test_target))"
      ],
      "metadata": {
        "colab": {
          "base_uri": "https://localhost:8080/"
        },
        "id": "a1TC2n5Lffgm",
        "outputId": "267f4b07-963b-450e-cde1-1ba2f0baf8a3"
      },
      "execution_count": 13,
      "outputs": [
        {
          "output_type": "stream",
          "name": "stdout",
          "text": [
            "0.9903183436982124\n",
            "0.9714559911594134\n"
          ]
        }
      ]
    },
    {
      "cell_type": "code",
      "source": [
        "poly2 = PolynomialFeatures(degree=5, include_bias=False)\n",
        "poly2.fit(train_input)\n",
        "train_poly2 = poly2.transform(train_input)\n",
        "test_poly2 = poly2.transform(test_input)\n",
        "print(train_poly2.shape)"
      ],
      "metadata": {
        "colab": {
          "base_uri": "https://localhost:8080/"
        },
        "id": "967-RWgIgYf0",
        "outputId": "241530d0-3715-4a93-aa03-0d812cfbbefd"
      },
      "execution_count": 14,
      "outputs": [
        {
          "output_type": "stream",
          "name": "stdout",
          "text": [
            "(42, 55)\n"
          ]
        }
      ]
    },
    {
      "cell_type": "code",
      "source": [
        "lr.fit(train_poly2, train_target)\n",
        "print(lr.score(train_poly2, train_target)) # 특성의 개수가 크게 늘어났기 때문에 훈련 세트에 대해 거의 완벽하게 학습\n",
        "print(lr.score(test_poly2, test_target)) # 단, 테스트 세트에서는 형편없는 점수를 만듬 (샘플의 개수가 특성의 수보다 적어서)"
      ],
      "metadata": {
        "colab": {
          "base_uri": "https://localhost:8080/"
        },
        "id": "ABAZycYngtyF",
        "outputId": "0e6ca250-89f5-49be-937b-9eed8125dd5d"
      },
      "execution_count": 16,
      "outputs": [
        {
          "output_type": "stream",
          "name": "stdout",
          "text": [
            "0.9999999999991097\n",
            "-144.40579242684848\n"
          ]
        }
      ]
    },
    {
      "cell_type": "markdown",
      "source": [
        "### 규제"
      ],
      "metadata": {
        "id": "hIJy-LMVhSMt"
      }
    },
    {
      "cell_type": "code",
      "source": [
        "from sklearn.preprocessing import StandardScaler\n",
        "ss = StandardScaler() # 객체 생성\n",
        "ss.fit(train_poly2) # 학습\n",
        "train_scaled = ss.transform(train_poly2) # 변형\n",
        "test_scaled = ss.transform(test_poly2) # 변형 (훈련 세트로 학습한 변환기를 사용해 테스트 세트까지 변환해야 함)"
      ],
      "metadata": {
        "id": "brLqCWr5hWLd"
      },
      "execution_count": 18,
      "outputs": []
    },
    {
      "cell_type": "markdown",
      "source": [
        "### 릿지 회귀"
      ],
      "metadata": {
        "id": "AhMrljWbmnKT"
      }
    },
    {
      "cell_type": "code",
      "source": [
        "from sklearn.linear_model import Ridge\n",
        "ridge = Ridge() # 객체생성\n",
        "ridge.fit(train_scaled, train_target) #학습\n",
        "print(ridge.score(train_scaled, train_target)) # 훈련 세트 평가\n",
        "print(ridge.score(test_scaled, test_target)) # 테스트 세트 평가"
      ],
      "metadata": {
        "colab": {
          "base_uri": "https://localhost:8080/"
        },
        "id": "n9qdFIt5mpOm",
        "outputId": "05c18018-362d-4471-f3fc-2b59e168d13b"
      },
      "execution_count": 20,
      "outputs": [
        {
          "output_type": "stream",
          "name": "stdout",
          "text": [
            "0.9896101671037343\n",
            "0.9790693977615391\n"
          ]
        }
      ]
    },
    {
      "cell_type": "markdown",
      "source": [
        "- 객체를 만들 때 alpha 매개변수로 규제의 강도 조절\n",
        "- alpha 값이 크면 규제 강도가 세지므로 계수 값을 더 줄여 조금 더 과소적합되도록 유도\n",
        "- alpha 값이 작으면 계수를 줄이는 역할이 줄어들기 대문에 과대적합될 가능성이 큼\n",
        "- 하이퍼파라미터: 사람이 직접 지정해야 하는 매개변수 (학습변수)"
      ],
      "metadata": {
        "id": "F3O2IL_brbp1"
      }
    },
    {
      "cell_type": "code",
      "source": [
        "import matplotlib.pyplot as plt\n",
        "train_score = []\n",
        "test_score = []"
      ],
      "metadata": {
        "id": "EbrNkq2hr-rK"
      },
      "execution_count": 21,
      "outputs": []
    },
    {
      "cell_type": "code",
      "source": [
        "alpha_list = [0.001, 0.01, 0.1, 1, 10, 100]\n",
        "for alpha in alpha_list:\n",
        "  ridge = Ridge(alpha=alpha)\n",
        "  ridge.fit(train_scaled, train_target)\n",
        "  train_score.append(ridge.score(train_scaled, train_target))\n",
        "  test_score.append(ridge.score(test_scaled, test_target))"
      ],
      "metadata": {
        "id": "UvfsuN-TtNmB"
      },
      "execution_count": 22,
      "outputs": []
    },
    {
      "cell_type": "code",
      "source": [
        "plt.plot(np.log10(alpha_list), train_score) # alpha_list에 있는 6개의 값을 동일한 간격으로 나타내기 위해 로그 함수로 바꾸어 지수로 표현\n",
        "plt.plot(np.log10(alpha_list), test_score)\n",
        "plt.xlabel('alpha')\n",
        "plt.ylabel('r^2')\n",
        "plt.show()"
      ],
      "metadata": {
        "colab": {
          "base_uri": "https://localhost:8080/",
          "height": 279
        },
        "id": "u0ZBwgvPth_c",
        "outputId": "f7466bb6-4c50-4d03-dcc0-65cbbf6dafbe"
      },
      "execution_count": 24,
      "outputs": [
        {
          "output_type": "display_data",
          "data": {
            "text/plain": [
              "<Figure size 432x288 with 1 Axes>"
            ],
            "image/png": "[encoded data removed]"
          },
          "metadata": {
            "needs_background": "light"
          }
        }
      ]
    },
    {
      "cell_type": "code",
      "source": [
        "ridge = Ridge(alpha=0.1) # 최적의 알파값 선정 후 대입\n",
        "ridge.fit(train_scaled, train_target)\n",
        "print(ridge.score(train_scaled, train_target))\n",
        "print(ridge.score(test_scaled, test_target))"
      ],
      "metadata": {
        "colab": {
          "base_uri": "https://localhost:8080/"
        },
        "id": "VPONei4avPM-",
        "outputId": "f1c4258c-4074-4cf9-ae78-920ef4c191c3"
      },
      "execution_count": 25,
      "outputs": [
        {
          "output_type": "stream",
          "name": "stdout",
          "text": [
            "0.9903815817570365\n",
            "0.9827976465386884\n"
          ]
        }
      ]
    },
    {
      "cell_type": "markdown",
      "source": [
        "### 라쏘 회귀"
      ],
      "metadata": {
        "id": "tPk70irOvgfE"
      }
    },
    {
      "cell_type": "code",
      "source": [
        "from sklearn.linear_model import Lasso\n",
        "lasso = Lasso()\n",
        "lasso.fit(train_scaled, train_target)\n",
        "print(lasso.score(train_scaled, train_target))\n",
        "print(lasso.score(test_scaled, test_target))"
      ],
      "metadata": {
        "colab": {
          "base_uri": "https://localhost:8080/"
        },
        "id": "_C-ef8XDviBc",
        "outputId": "44bae1dd-8148-4c59-aaba-dad05a2f0065"
      },
      "execution_count": 26,
      "outputs": [
        {
          "output_type": "stream",
          "name": "stdout",
          "text": [
            "0.989789897208096\n",
            "0.9800593698421883\n"
          ]
        }
      ]
    },
    {
      "cell_type": "code",
      "source": [
        "train_score = []\n",
        "test_score = []\n",
        "alpha_list = [0.001, 0.01, 0.1, 1, 10, 100]\n",
        "for alpha in alpha_list:\n",
        "  lasso = Lasso(alpha=alpha, max_iter=10000)\n",
        "  lasso.fit(train_scaled, train_target)\n",
        "  train_score.append(lasso.score(train_scaled, train_target))\n",
        "  test_score.append(lasso.score(test_scaled, test_target))"
      ],
      "metadata": {
        "colab": {
          "base_uri": "https://localhost:8080/"
        },
        "id": "cia1_rKNy8yN",
        "outputId": "a29c18b7-970f-4134-a9bc-c5e773f475b0"
      },
      "execution_count": 27,
      "outputs": [
        {
          "output_type": "stream",
          "name": "stderr",
          "text": [
            "/usr/local/lib/python3.8/dist-packages/sklearn/linear_model/_coordinate_descent.py:647: ConvergenceWarning: Objective did not converge. You might want to increase the number of iterations, check the scale of the features or consider increasing regularisation. Duality gap: 1.878e+04, tolerance: 5.183e+02\n",
            "  model = cd_fast.enet_coordinate_descent(\n",
            "/usr/local/lib/python3.8/dist-packages/sklearn/linear_model/_coordinate_descent.py:647: ConvergenceWarning: Objective did not converge. You might want to increase the number of iterations, check the scale of the features or consider increasing regularisation. Duality gap: 1.297e+04, tolerance: 5.183e+02\n",
            "  model = cd_fast.enet_coordinate_descent(\n"
          ]
        }
      ]
    },
    {
      "cell_type": "code",
      "source": [
        "plt.plot(np.log10(alpha_list), train_score)\n",
        "plt.plot(np.log10(alpha_list), test_score)\n",
        "plt.xlabel('alpha')\n",
        "plt.ylabel('R^2')\n",
        "plt.show()"
      ],
      "metadata": {
        "colab": {
          "base_uri": "https://localhost:8080/",
          "height": 279
        },
        "id": "9TtgPE6izcII",
        "outputId": "289c11a9-060b-4805-8780-cde528c9fdf8"
      },
      "execution_count": 28,
      "outputs": [
        {
          "output_type": "display_data",
          "data": {
            "text/plain": [
              "<Figure size 432x288 with 1 Axes>"
            ],
            "image/png": "[encoded data removed]"
          },
          "metadata": {
            "needs_background": "light"
          }
        }
      ]
    },
    {
      "cell_type": "code",
      "source": [
        "lasso = Lasso(alpha=10)\n",
        "lasso.fit(train_scaled, train_target)\n",
        "print(lasso.score(train_scaled, train_target))\n",
        "print(lasso.score(test_scaled, test_target))"
      ],
      "metadata": {
        "colab": {
          "base_uri": "https://localhost:8080/"
        },
        "id": "dNNBHXPLzsc7",
        "outputId": "ba2b22d7-d868-4956-e994-48600de2c8a3"
      },
      "execution_count": 29,
      "outputs": [
        {
          "output_type": "stream",
          "name": "stdout",
          "text": [
            "0.9888067471131867\n",
            "0.9824470598706695\n"
          ]
        }
      ]
    },
    {
      "cell_type": "code",
      "source": [
        "print(np.sum(lasso.coef_==0)) # 라쏘 모델은 계수 값을 아예 0으로 만들 수 있음, 0의 개수 체크"
      ],
      "metadata": {
        "colab": {
          "base_uri": "https://localhost:8080/"
        },
        "id": "Jt0APBWh1CrL",
        "outputId": "355df80a-cfad-44ed-c0c6-8650827a9c5d"
      },
      "execution_count": 30,
      "outputs": [
        {
          "output_type": "stream",
          "name": "stdout",
          "text": [
            "40\n"
          ]
        }
      ]
    },
    {
      "cell_type": "code",
      "source": [
        "print(lasso.coef_)"
      ],
      "metadata": {
        "colab": {
          "base_uri": "https://localhost:8080/"
        },
        "id": "d159lq4n15Gg",
        "outputId": "24d18366-210f-4358-a4da-cc9922d5d536"
      },
      "execution_count": 31,
      "outputs": [
        {
          "output_type": "stream",
          "name": "stdout",
          "text": [
            "[ 0.          0.          0.         12.14852453 55.44856399 42.23100799\n",
            "  0.          0.         13.70596191  0.         43.2185952   5.7033775\n",
            " 47.46254536  7.42309425 11.85823365  0.          0.         13.53038193\n",
            " 21.22111356  0.          0.          0.          0.          0.\n",
            "  0.         18.66993032  0.          0.          0.         15.81041778\n",
            "  0.          0.          0.          0.          0.          0.\n",
            "  0.          0.          0.          0.          0.          0.\n",
            "  0.          0.         18.14672268  0.          0.          0.\n",
            "  0.         15.51272953  0.          0.          0.          0.\n",
            "  0.        ]\n"
          ]
        }
      ]
    },
    {
      "cell_type": "markdown",
      "source": [
        "- 55개의 특성을 모델에 주입했지만 라쏘 모델이 사용한 특성은 15개임 (55-40)\n",
        "- 라쏘 모델은 유용한 특성을 골라내는 용도로도 사용할 수 있음"
      ],
      "metadata": {
        "id": "et9eK6pc1irT"
      }
    }
  ]
}